{
  "nbformat": 4,
  "nbformat_minor": 0,
  "metadata": {
    "colab": {
      "provenance": [],
      "authorship_tag": "ABX9TyO4EKmSf6OVSaw6lfW/s+UC",
      "include_colab_link": true
    },
    "kernelspec": {
      "name": "python3",
      "display_name": "Python 3"
    },
    "language_info": {
      "name": "python"
    }
  },
  "cells": [
    {
      "cell_type": "markdown",
      "metadata": {
        "id": "view-in-github",
        "colab_type": "text"
      },
      "source": [
        "<a href=\"https://colab.research.google.com/github/Alvise84/Computer_Vision/blob/main/Video_Frame_Annotator.ipynb\" target=\"_parent\"><img src=\"https://colab.research.google.com/assets/colab-badge.svg\" alt=\"Open In Colab\"/></a>"
      ]
    },
    {
      "cell_type": "markdown",
      "source": [
        "# Аннотатор Видео\n",
        "### Описание проекта\n",
        "\n",
        "Проект для добавления аннотаций к видео с использованием Python и OpenCV. Мы будем обрабатывать каждый кадр видео, добавляя прямоугольную рамку и текст, и сохранять обработанное видео в новый файл."
      ],
      "metadata": {
        "id": "tGWfiWfmL7p2"
      }
    },
    {
      "cell_type": "markdown",
      "source": [
        "### Какие задачи можно решать с помощью этого проекта?\n",
        "\n",
        "    Аннотация объектов: Добавление рамок и текста для выделения объектов на видео, что может быть полезно для обучения моделей компьютерного зрения.\n",
        "    Маркировка событий: Отметка ключевых событий или моментов в видео для анализа или демонстрации.\n",
        "    Создание учебных материалов: Аннотация видео для создания образовательных материалов, где важно выделить определенные элементы или действия.\n",
        "    Анализ видео: Использование аннотаций для анализа видео, например, для отслеживания движения объектов или анализа поведения.\n",
        "    Разработка интерфейсов: Создание интерактивных интерфейсов для работы с видео, где пользователи могут добавлять свои аннотации.\n"
      ],
      "metadata": {
        "id": "fdnAdxxDQ6DE"
      }
    },
    {
      "cell_type": "markdown",
      "source": [
        "### Практическое применение\n",
        "\n",
        "    Обучение моделей компьютерного зрения: Аннотации могут использоваться для создания наборов данных для обучения моделей распознавания объектов.\n",
        "    Анализ видео в спорте: Маркировка ключевых моментов в спортивных видео для анализа игры или тренировок.\n",
        "    Безопасность и наблюдение: Аннотация видео с камер наблюдения для выделения подозрительных объектов или действий.\n",
        "    Медицинские исследования: Аннотация медицинских видео для анализа движений пациентов или изменений в состоянии.\n",
        "    Образование: Создание учебных видео с аннотациями для объяснения сложных концепций или процессов.\n"
      ],
      "metadata": {
        "id": "WV5wGAg_RTZL"
      }
    },
    {
      "cell_type": "markdown",
      "source": [
        "\n",
        "1. Установим необходимые библиотеки:\n",
        "\n",
        "    Установим библиотеку OpenCV.\n"
      ],
      "metadata": {
        "id": "o3Eip8nGMPB6"
      }
    },
    {
      "cell_type": "code",
      "source": [
        "!pip install opencv-python"
      ],
      "metadata": {
        "id": "TOJdVawdMICE"
      },
      "execution_count": null,
      "outputs": []
    },
    {
      "cell_type": "markdown",
      "source": [
        "\n",
        "2. Импортируем необходимые библиотеки:\n",
        "\n",
        "    Импортируем библиотеку OpenCV."
      ],
      "metadata": {
        "id": "oAY_LLVmM0tr"
      }
    },
    {
      "cell_type": "code",
      "source": [
        "import cv2"
      ],
      "metadata": {
        "id": "tqZ7V1zNM-U9"
      },
      "execution_count": null,
      "outputs": []
    },
    {
      "cell_type": "markdown",
      "source": [
        "\n",
        "3. Определяем функцию для аннотации изображения:\n",
        "   \n",
        "  Определяем функцию annotate, которая будет добавлять рамку и текст на изображение."
      ],
      "metadata": {
        "id": "JvcJc3i0NDno"
      }
    },
    {
      "cell_type": "code",
      "source": [
        "def annotate(img, x, y, w, h, color=(0, 0, 255), thickness=2):\n",
        "    x_start = int(img.shape[1] * x)\n",
        "    y_start = int(img.shape[0] * y)\n",
        "    x_end = x_start + int(img.shape[1] * w)\n",
        "    y_end = y_start + int(img.shape[0] * h)\n",
        "\n",
        "    # Определение текста и его параметров\n",
        "    text = \"здесь рамка\"\n",
        "    font = cv2.FONT_HERSHEY_COMPLEX   # установка шрифта\n",
        "    font_scale = 0.7                  # размер шрифта\n",
        "    font_color = (255, 255, 255)      # Белый цвет\n",
        "\n",
        "    line_type = 1                     # тип линии (1-сплошная)\n",
        "\n",
        "    # Позиция текста на изображении\n",
        "    text_x = x_start\n",
        "    text_y = y_start - 10\n",
        "\n",
        "    # Добавление текста на изображение\n",
        "    cv2.putText(img, text, (text_x, text_y), font, font_scale, font_color, line_type)\n",
        "\n",
        "    # Добавление прямоугольной рамки\n",
        "    cv2.rectangle(img, (x_start, y_start), (x_end, y_end), color, thickness)\n",
        "\n",
        "    return img"
      ],
      "metadata": {
        "id": "Ju8O5WuwNOLE"
      },
      "execution_count": null,
      "outputs": []
    },
    {
      "cell_type": "markdown",
      "source": [
        "\n",
        "4. Загружаем видеофайл:\n",
        "\n",
        "  Загружаем видеофайл, который будем обрабатывать."
      ],
      "metadata": {
        "id": "H26hGBN2OahV"
      }
    },
    {
      "cell_type": "code",
      "source": [
        "from google.colab import files\n",
        "uploaded = files.upload()"
      ],
      "metadata": {
        "id": "2Ew9-NQiOhlj"
      },
      "execution_count": null,
      "outputs": []
    },
    {
      "cell_type": "markdown",
      "source": [
        "\n",
        "5. Открываем видеофайл и обрабатываем каждый кадр:\n",
        "\n",
        "  Открываем видеофайл, обрабатываем каждый кадр, добавляя рамку и текст, и сохраняем обработанное видео в новый файл."
      ],
      "metadata": {
        "id": "kKoOY-TMOsNc"
      }
    },
    {
      "cell_type": "code",
      "source": [
        "# Путь к видеофайлу\n",
        "video_path = list(uploaded.keys())[0]\n",
        "output_path = 'output_video.MP4'\n",
        "\n",
        "# Открытие видеофайла\n",
        "cap = cv2.VideoCapture(video_path)\n",
        "\n",
        "# Проверка открытия файла\n",
        "if not cap.isOpened():\n",
        "    print(\"Ошибка: Не удалось открыть видео.\")\n",
        "    exit()\n",
        "\n",
        "# Получение параметров видео\n",
        "frame_width = int(cap.get(cv2.CAP_PROP_FRAME_WIDTH))\n",
        "frame_height = int(cap.get(cv2.CAP_PROP_FRAME_HEIGHT))\n",
        "fps = cap.get(cv2.CAP_PROP_FPS)\n",
        "\n",
        "# Создание объекта VideoWriter для записи видео\n",
        "fourcc = cv2.VideoWriter_fourcc(*'mp4v')  # Кодек для записи видео\n",
        "out = cv2.VideoWriter(output_path, fourcc, fps, (frame_width, frame_height))\n",
        "\n",
        "# Чтение и обработка кадров\n",
        "while True:\n",
        "    # Получение кадра\n",
        "    ret, frame = cap.read()\n",
        "    if not ret:\n",
        "        break  # Выход из цикла, если больше нет кадров\n",
        "\n",
        "    # Рисуем рамку\n",
        "    box = [0.5, 0.5, 0.1, 0.1]  # относительные координаты рамки\n",
        "    annotated_frame = annotate(frame, *box)\n",
        "\n",
        "    # Запись обработанного кадра в выходной файл\n",
        "    out.write(annotated_frame)\n",
        "\n",
        "    # Отображение текущего кадра с помощью OpenCV\n",
        "    cv2.imshow('Video Playback', annotated_frame)\n",
        "\n",
        "    # Ожидание короткий период для управления скоростью воспроизведения\n",
        "    key = cv2.waitKey(30)  # Настройте это значение для скорости воспроизведения (30 мс ≈ 33 FPS)\n",
        "\n",
        "    if key == 27:  # Нажмите 'Esc' для выхода\n",
        "        break\n",
        "\n",
        "# Освобождение объектов захвата и записи видео\n",
        "cap.release()\n",
        "out.release()\n",
        "cv2.destroyAllWindows()"
      ],
      "metadata": {
        "id": "u2HXb91nO4gL"
      },
      "execution_count": null,
      "outputs": []
    },
    {
      "cell_type": "markdown",
      "source": [
        "\n",
        "6. Скачиваем обработанное видео:\n",
        "\n",
        "  Скачиваем обработанное видео."
      ],
      "metadata": {
        "id": "NPqEXN0ZPDrS"
      }
    },
    {
      "cell_type": "code",
      "source": [
        "from google.colab import files\n",
        "files.download(output_path)"
      ],
      "metadata": {
        "id": "Z4FbwC3PPJbD"
      },
      "execution_count": null,
      "outputs": []
    }
  ]
}